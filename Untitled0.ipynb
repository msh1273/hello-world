{
  "nbformat": 4,
  "nbformat_minor": 0,
  "metadata": {
    "colab": {
      "name": "Untitled0.ipynb",
      "version": "0.3.2",
      "provenance": [],
      "include_colab_link": true
    },
    "kernelspec": {
      "name": "python3",
      "display_name": "Python 3"
    }
  },
  "cells": [
    {
      "cell_type": "markdown",
      "metadata": {
        "id": "view-in-github",
        "colab_type": "text"
      },
      "source": [
        "<a href=\"https://colab.research.google.com/github/msh1273/hello-world/blob/master/Untitled0.ipynb\" target=\"_parent\"><img src=\"https://colab.research.google.com/assets/colab-badge.svg\" alt=\"Open In Colab\"/></a>"
      ]
    },
    {
      "cell_type": "code",
      "metadata": {
        "id": "6liUPRngtBCI",
        "colab_type": "code",
        "colab": {
          "base_uri": "https://localhost:8080/",
          "height": 1000
        },
        "outputId": "ff77e5ba-678f-43bd-eede-610ade2fa1d8"
      },
      "source": [
        "#!/usr/bin/env python\n",
        "# -*- coding: utf-8 -*-\n",
        "import numpy as np\n",
        "import matplotlib.pyplot as plt\n",
        "# 검정색으로 채우기\n",
        "i=np.zeros((10,10,4))\n",
        "# 4번째 값은 알파값(1로 채워서 값을 적용하기)\n",
        "i[:,:,3]=1.\n",
        "# 세로로 빨간색 집어 넣기\n",
        "i[:,:,0]=np.array([0,1]*50).reshape((10,10))\n",
        "# 가로로 녹색 집어 넣기\n",
        "i[range(1,10,2),:,1]=1\n",
        "plt.imshow(i, cmap='Greys')\n",
        "plt.show()\n",
        "plt.imsave('a.png',i)\n",
        "ir=plt.imread('a.png')\n",
        "print(ir)"
      ],
      "execution_count": 19,
      "outputs": [
        {
          "output_type": "display_data",
          "data": {
            "image/png": "[encoded data removed]",
            "text/plain": [
              "<Figure size 432x288 with 1 Axes>"
            ]
          },
          "metadata": {
            "tags": []
          }
        },
        {
          "output_type": "stream",
          "text": [
            "[[[0. 0. 0. 1.]\n",
            "  [1. 0. 0. 1.]\n",
            "  [0. 0. 0. 1.]\n",
            "  [1. 0. 0. 1.]\n",
            "  [0. 0. 0. 1.]\n",
            "  [1. 0. 0. 1.]\n",
            "  [0. 0. 0. 1.]\n",
            "  [1. 0. 0. 1.]\n",
            "  [0. 0. 0. 1.]\n",
            "  [1. 0. 0. 1.]]\n",
            "\n",
            " [[0. 1. 0. 1.]\n",
            "  [1. 1. 0. 1.]\n",
            "  [0. 1. 0. 1.]\n",
            "  [1. 1. 0. 1.]\n",
            "  [0. 1. 0. 1.]\n",
            "  [1. 1. 0. 1.]\n",
            "  [0. 1. 0. 1.]\n",
            "  [1. 1. 0. 1.]\n",
            "  [0. 1. 0. 1.]\n",
            "  [1. 1. 0. 1.]]\n",
            "\n",
            " [[0. 0. 0. 1.]\n",
            "  [1. 0. 0. 1.]\n",
            "  [0. 0. 0. 1.]\n",
            "  [1. 0. 0. 1.]\n",
            "  [0. 0. 0. 1.]\n",
            "  [1. 0. 0. 1.]\n",
            "  [0. 0. 0. 1.]\n",
            "  [1. 0. 0. 1.]\n",
            "  [0. 0. 0. 1.]\n",
            "  [1. 0. 0. 1.]]\n",
            "\n",
            " [[0. 1. 0. 1.]\n",
            "  [1. 1. 0. 1.]\n",
            "  [0. 1. 0. 1.]\n",
            "  [1. 1. 0. 1.]\n",
            "  [0. 1. 0. 1.]\n",
            "  [1. 1. 0. 1.]\n",
            "  [0. 1. 0. 1.]\n",
            "  [1. 1. 0. 1.]\n",
            "  [0. 1. 0. 1.]\n",
            "  [1. 1. 0. 1.]]\n",
            "\n",
            " [[0. 0. 0. 1.]\n",
            "  [1. 0. 0. 1.]\n",
            "  [0. 0. 0. 1.]\n",
            "  [1. 0. 0. 1.]\n",
            "  [0. 0. 0. 1.]\n",
            "  [1. 0. 0. 1.]\n",
            "  [0. 0. 0. 1.]\n",
            "  [1. 0. 0. 1.]\n",
            "  [0. 0. 0. 1.]\n",
            "  [1. 0. 0. 1.]]\n",
            "\n",
            " [[0. 1. 0. 1.]\n",
            "  [1. 1. 0. 1.]\n",
            "  [0. 1. 0. 1.]\n",
            "  [1. 1. 0. 1.]\n",
            "  [0. 1. 0. 1.]\n",
            "  [1. 1. 0. 1.]\n",
            "  [0. 1. 0. 1.]\n",
            "  [1. 1. 0. 1.]\n",
            "  [0. 1. 0. 1.]\n",
            "  [1. 1. 0. 1.]]\n",
            "\n",
            " [[0. 0. 0. 1.]\n",
            "  [1. 0. 0. 1.]\n",
            "  [0. 0. 0. 1.]\n",
            "  [1. 0. 0. 1.]\n",
            "  [0. 0. 0. 1.]\n",
            "  [1. 0. 0. 1.]\n",
            "  [0. 0. 0. 1.]\n",
            "  [1. 0. 0. 1.]\n",
            "  [0. 0. 0. 1.]\n",
            "  [1. 0. 0. 1.]]\n",
            "\n",
            " [[0. 1. 0. 1.]\n",
            "  [1. 1. 0. 1.]\n",
            "  [0. 1. 0. 1.]\n",
            "  [1. 1. 0. 1.]\n",
            "  [0. 1. 0. 1.]\n",
            "  [1. 1. 0. 1.]\n",
            "  [0. 1. 0. 1.]\n",
            "  [1. 1. 0. 1.]\n",
            "  [0. 1. 0. 1.]\n",
            "  [1. 1. 0. 1.]]\n",
            "\n",
            " [[0. 0. 0. 1.]\n",
            "  [1. 0. 0. 1.]\n",
            "  [0. 0. 0. 1.]\n",
            "  [1. 0. 0. 1.]\n",
            "  [0. 0. 0. 1.]\n",
            "  [1. 0. 0. 1.]\n",
            "  [0. 0. 0. 1.]\n",
            "  [1. 0. 0. 1.]\n",
            "  [0. 0. 0. 1.]\n",
            "  [1. 0. 0. 1.]]\n",
            "\n",
            " [[0. 1. 0. 1.]\n",
            "  [1. 1. 0. 1.]\n",
            "  [0. 1. 0. 1.]\n",
            "  [1. 1. 0. 1.]\n",
            "  [0. 1. 0. 1.]\n",
            "  [1. 1. 0. 1.]\n",
            "  [0. 1. 0. 1.]\n",
            "  [1. 1. 0. 1.]\n",
            "  [0. 1. 0. 1.]\n",
            "  [1. 1. 0. 1.]]]\n"
          ],
          "name": "stdout"
        }
      ]
    },
    {
      "cell_type": "code",
      "metadata": {
        "id": "QHrKIraKzJiR",
        "colab_type": "code",
        "colab": {}
      },
      "source": [
        ""
      ],
      "execution_count": 0,
      "outputs": []
    },
    {
      "cell_type": "markdown",
      "metadata": {
        "id": "bLCl30ptzJxf",
        "colab_type": "text"
      },
      "source": [
        ""
      ]
    }
  ]
}